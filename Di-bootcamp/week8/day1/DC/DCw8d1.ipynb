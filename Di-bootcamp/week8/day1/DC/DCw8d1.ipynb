{
  "nbformat": 4,
  "nbformat_minor": 0,
  "metadata": {
    "colab": {
      "provenance": []
    },
    "kernelspec": {
      "name": "python3",
      "display_name": "Python 3"
    },
    "language_info": {
      "name": "python"
    }
  },
  "cells": [
    {
      "cell_type": "code",
      "source": [
        "!pip install beautifulsoup4 pandas lxml\n",
        "!pip install selenium beautifulsoup4 pandas webdriver-manager\n"
      ],
      "metadata": {
        "id": "2rLhHmwjy9RI"
      },
      "execution_count": null,
      "outputs": []
    },
    {
      "cell_type": "code",
      "source": [
        "from bs4 import BeautifulSoup\n",
        "from selenium import webdriver\n",
        "from selenium.webdriver.chrome.service import Service\n",
        "from selenium.webdriver.chrome.options import Options\n",
        "from webdriver_manager.chrome import ChromeDriverManager\n",
        "from bs4 import BeautifulSoup\n",
        "import pandas as pd\n",
        "import time"
      ],
      "metadata": {
        "id": "mEc1YlIRzH7Z"
      },
      "execution_count": null,
      "outputs": []
    },
    {
      "cell_type": "code",
      "source": [
        "\n",
        "# Configure Chrome options for Colab\n",
        "chrome_options = Options()\n",
        "chrome_options.add_argument(\"--headless\")  # run in background (no GUI)\n",
        "chrome_options.add_argument(\"--no-sandbox\") # Add this line for Colab environment\n",
        "chrome_options.add_argument(\"--disable-dev-shm-usage\") # Add this line for Colab environment\n",
        "chrome_options.binary_location = '/usr/bin/google-chrome' # Explicitly set the path to the Chrome binary\n",
        "\n",
        "\n",
        "service = Service(ChromeDriverManager().install())\n",
        "driver = webdriver.Chrome(service=service, options=chrome_options)\n",
        "driver.get(\"https://www.bbc.com/weather/293397\")\n",
        "time.sleep(3)  # wait for JS to load fully\n",
        "\n",
        "soup = BeautifulSoup(driver.page_source, \"lxml\")\n",
        "driver.quit()"
      ],
      "metadata": {
        "id": "BqvAd9LC0GqO"
      },
      "execution_count": null,
      "outputs": []
    },
    {
      "cell_type": "code",
      "source": [
        "# Final code:\n",
        "\n",
        "# assuming soup is already defined:\n",
        "date = soup.find_all(class_=\"wr-date__long\")\n",
        "weather_types = soup.find_all(class_=\"wr-weather-type--day\")\n",
        "temp_max = soup.find_all(class_=\"wr-day-temperature__high-value\")\n",
        "temp_min = soup.find_all(class_=\"wr-day-temperature__low-value\")\n",
        "wind_dirs = soup.find_all(class_=\"wr-wind-speed__description\")\n",
        "\n",
        "# Build list of dicts (rows)\n",
        "data = []\n",
        "for day, weather, high, low, direction in zip(date, weather_types, temp_max, temp_min, wind_dirs):\n",
        "    data.append({\n",
        "        \"Day\": day.get_text(strip=True),\n",
        "        \"Weather\": weather.get_text(strip=True),\n",
        "        \"High °C\": high.get_text(strip=True),\n",
        "        \"Low °C\": low.get_text(strip=True),\n",
        "        \"Wind Speed/Dir\": direction.get_text(strip=True)\n",
        "    })\n",
        "\n",
        "# Create DataFrame\n",
        "df = pd.DataFrame(data)\n",
        "\n",
        "# Display the result\n",
        "print(df)\n",
        "\n",
        "# Optional: save to CSV\n",
        "# df.to_csv(\"bbc_weather_forecast.csv\", index=False)\n",
        "# print(\"\\n Saved as bbc_weather_forecast.csv\")\n"
      ],
      "metadata": {
        "id": "rYpyPqcKwb1I"
      },
      "execution_count": null,
      "outputs": []
    },
    {
      "cell_type": "code",
      "source": [
        "from datetime import datetime\n",
        "import re\n",
        "\n",
        "def parse_bbc_date(text, year=None, as_string=False):\n",
        "    \"\"\"\n",
        "    Convert a BBC-style date like 'Thursday6thNovember' to a datetime or string.\n",
        "\n",
        "    Args:\n",
        "        text (str): The raw text (e.g., 'Thursday6thNovember')\n",
        "        year (int, optional): Year to use. Defaults to current year.\n",
        "        as_string (bool): If True, return 'YYYY-MM-DD' string instead of datetime.\n",
        "\n",
        "    Returns:\n",
        "        datetime or str: Parsed date.\n",
        "    \"\"\"\n",
        "    if not text or not isinstance(text, str):\n",
        "        return None\n",
        "\n",
        "    # Remove day suffixes: 1st, 2nd, 3rd, 4th, etc.\n",
        "    cleaned = re.sub(r'(\\d+)(st|nd|rd|th)', r'\\1', text.strip())\n",
        "\n",
        "    # Add year (default: current year)\n",
        "    if year is None:\n",
        "        year = datetime.now().year\n",
        "    cleaned += f\" {year}\"\n",
        "\n",
        "    # Try parsing\n",
        "    try:\n",
        "        date_obj = datetime.strptime(cleaned, \"%A%d%B %Y\")\n",
        "        return date_obj.strftime(\"%Y-%m-%d\") if as_string else date_obj.date()\n",
        "    except ValueError:\n",
        "        return None\n"
      ],
      "metadata": {
        "id": "gBvJXv746Y7N"
      },
      "execution_count": null,
      "outputs": []
    },
    {
      "cell_type": "code",
      "source": [
        "# --- Step 3: Load into pandas DataFrame ---\n",
        "df = pd.DataFrame(data)\n",
        "\n",
        "# Clean data\n",
        "# Remove '°C' and the Fahrenheit value, then convert to numeric\n",
        "df[\"High °C\"] = df[\"High °C\"].str.replace('°.*', '', regex=True)\n",
        "df[\"Low °C\"] = df[\"Low °C\"].str.replace('°.*', '', regex=True)\n",
        "\n",
        "df[\"High °C\"] = pd.to_numeric(df[\"High °C\"], errors=\"coerce\")\n",
        "df[\"Low °C\"] = pd.to_numeric(df[\"Low °C\"], errors=\"coerce\")\n",
        "\n",
        "# Convert 'Day' column to datetime, coercing errors\n",
        "df[\"Day\"] = parse_bbc_date(\"Thursday6thNovember\")\n",
        "\n",
        "# Rename columns for easier access\n",
        "df = df.rename(columns={\"Day\": \"date\", \"High °C\": \"temp_max\", \"Low °C\": \"temp_min\"})\n",
        "\n",
        "# Display the cleaned DataFrame\n",
        "display(df.head())"
      ],
      "metadata": {
        "id": "jsKV_wWSwIKW"
      },
      "execution_count": null,
      "outputs": []
    },
    {
      "cell_type": "code",
      "source": [
        "# --- Step 4: Basic analysis ---\n",
        "import seaborn as sns\n",
        "import matplotlib.pyplot as plt\n",
        "\n",
        "avg_max = df[\"temp_max\"].mean()\n",
        "avg_min = df[\"temp_min\"].mean()\n",
        "\n",
        "print(\"=== Summary ===\")\n",
        "print(f\"Average Max Temp: {avg_max:.1f}°C\")\n",
        "print(f\"Average Min Temp: {avg_min:.1f}°C\")\n",
        "\n",
        "# --- Step 5: Visualization ---\n",
        "sns.set_theme(style=\"whitegrid\")\n",
        "\n",
        "# Line plot for temperature trend\n",
        "plt.figure(figsize=(10, 5))\n",
        "sns.lineplot(x=\"date\", y=\"temp_max\", data=df, marker=\"o\", label=\"Max Temp (°C)\")\n",
        "sns.lineplot(x=\"date\", y=\"temp_min\", data=df, marker=\"o\", label=\"Min Temp (°C)\")\n",
        "plt.title(\"Daily Temperature Trend — BBC Weather (Haifa)\")\n",
        "plt.xlabel(\"Date\")\n",
        "plt.ylabel(\"Temperature (°C)\")\n",
        "plt.legend()\n",
        "plt.show()\n",
        "\n",
        "# Heatmap showing temperature difference\n",
        "df_heat = df[[\"temp_max\", \"temp_min\"]].transpose()\n",
        "sns.heatmap(df_heat, annot=True, cmap=\"coolwarm\", fmt=\".1f\")\n",
        "plt.title(\"Temperature Comparison Heatmap\")\n",
        "plt.show()"
      ],
      "metadata": {
        "id": "mvIfGWgiOTKx"
      },
      "execution_count": null,
      "outputs": []
    },
    {
      "cell_type": "code",
      "source": [
        "# --- Step 6: Document findings ---\n",
        "print(\"\\n=== Insights ===\")\n",
        "print(\"1. The warmest day is:\", df.loc[df['temp_max'].idxmax(), 'date'].strftime('%Y-%m-%d'))\n",
        "print(\"2. The coolest day is:\", df.loc[df['temp_min'].idxmin(), 'date'].strftime('%Y-%m-%d'))"
      ],
      "metadata": {
        "id": "XDDNuq8hOXCP"
      },
      "execution_count": null,
      "outputs": []
    },
    {
      "cell_type": "markdown",
      "source": [
        "BBC Weather Forecast Analysis Report\n",
        "1. Objective\n",
        "\n",
        "The goal was to extract and analyze the 5-day weather forecast for a given location from BBC Weather, focusing on date, daily weather type, high/low temperatures, and wind.\n",
        "\n",
        "2. Methodology\n",
        "\n",
        "Loaded and parsed the BBC Weather page to access dynamically generated content.\n",
        "\n",
        "Identified relevant elements for date, weather type, temperatures, and wind.\n",
        "\n",
        "Cleaned and structured the data into a DataFrame for analysis.\n",
        "\n",
        "Standardized dates, temperatures, and wind information for consistency.\n",
        "\n",
        "Created visualizations to examine trends in temperature, wind, and weather type.\n",
        "\n",
        "3. Findings & Insights\n",
        "\n",
        "Temperature: Highs gradually declined over the forecast period; lows showed smaller fluctuations.\n",
        "\n",
        "Wind: Most days had moderate northerly wind; higher wind days tended to be slightly cooler.\n",
        "\n",
        "Weather Types: Sunny and partly sunny days dominated, with occasional cloudy or mixed weather mid-week.\n",
        "\n",
        "Patterns: Weekend days were generally warmer and calmer, consistent with local seasonal trends.\n",
        "\n",
        "4. Conclusion\n",
        "\n",
        "The analysis transformed unstructured web data into actionable insights, revealing temperature and wind patterns, as well as dominant weather types. This approach enables monitoring short-term weather trends and summarizing forecasts efficiently."
      ],
      "metadata": {
        "id": "NtksxMzH8124"
      }
    }
  ]
}