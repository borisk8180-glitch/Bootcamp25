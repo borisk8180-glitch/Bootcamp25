{
  "nbformat": 4,
  "nbformat_minor": 0,
  "metadata": {
    "colab": {
      "provenance": []
    },
    "kernelspec": {
      "name": "python3",
      "display_name": "Python 3"
    },
    "language_info": {
      "name": "python"
    }
  },
  "cells": [
    {
      "cell_type": "code",
      "execution_count": null,
      "metadata": {
        "id": "i7kqoM63JRfT"
      },
      "outputs": [],
      "source": [
        "!pip install selenium beautifulsoup4\n"
      ]
    },
    {
      "cell_type": "code",
      "source": [
        "!wget https://dl.google.com/linux/direct/google-chrome-stable_current_amd64.deb\n",
        "!dpkg -i google-chrome-stable_current_amd64.deb\n",
        "!apt-get install -f\n",
        "!pip install selenium beautifulsoup4 webdriver_manager\n",
        "from selenium import webdriver\n",
        "from selenium.webdriver.chrome.service import Service\n",
        "from selenium.webdriver.common.by import By\n",
        "import time\n",
        "from bs4 import BeautifulSoup\n",
        "from collections import defaultdict\n",
        "import datetime\n",
        "import statistics\n",
        "from collections import Counter\n",
        "from webdriver_manager.chrome import ChromeDriverManager\n",
        "from selenium.webdriver.chrome.options import Options"
      ],
      "metadata": {
        "id": "eGEY7UhLKBjx"
      },
      "execution_count": null,
      "outputs": []
    },
    {
      "cell_type": "code",
      "source": [
        "# 1️ Configure Selenium\n",
        "chrome_options = Options()\n",
        "chrome_options.add_argument(\"--headless\")  # run in background (no GUI)\n",
        "chrome_options.add_argument(\"--disable-gpu\")\n",
        "chrome_options.add_argument(\"--no-sandbox\") # Add this line for Colab environment\n",
        "chrome_options.add_argument(\"--disable-dev-shm-usage\") # Add this line for Colab environment\n",
        "chrome_options.binary_location = '/usr/bin/google-chrome' # Explicitly set the path to the Chrome binary"
      ],
      "metadata": {
        "id": "Np79MXAZKZ0-"
      },
      "execution_count": null,
      "outputs": []
    },
    {
      "cell_type": "code",
      "source": [
        "\n",
        "\n",
        "# Set up Selenium WebDriver\n",
        "service = Service(ChromeDriverManager().install()) # Use webdriver_manager to install chromedriver\n",
        "driver = webdriver.Chrome(service=service, options=chrome_options)\n",
        "\n",
        "\n",
        "try:\n",
        "    # Navigate to the AccuWeather forecast page for Attica, GA\n",
        "    url = 'https://www.accuweather.com/en/us/attica/30607/weather-forecast/2139413'\n",
        "    driver.get(url)\n",
        "\n",
        "    # Wait for the page to load\n",
        "    time.sleep(5)\n",
        "\n",
        "    # Get the page source after JavaScript has loaded\n",
        "    html = driver.page_source\n",
        "    soup = BeautifulSoup(html, 'html.parser')\n",
        "\n",
        "    # Find all daily forecast elements\n",
        "    forecast_items = soup.find_all('div', class_='forecast-card')\n",
        "    print(forecast_items)\n",
        "\n",
        "    # Lists to store temperature, condition, and humidity data\n",
        "    temperatures = []\n",
        "    conditions = []\n",
        "    humidities = []\n",
        "\n",
        "    # Extract data from each forecast item\n",
        "    for item in forecast_items:\n",
        "        # Extract temperature\n",
        "        temp_tag = item.find('span', class_='high')\n",
        "        if temp_tag:\n",
        "            temp = int(temp_tag.text.replace('°', '').strip())\n",
        "            temperatures.append(temp)\n",
        "\n",
        "        # Extract condition\n",
        "        cond_tag = item.find('span', class_='phrase')\n",
        "        if cond_tag:\n",
        "            condition = cond_tag.text.strip()\n",
        "            conditions.append(condition)\n",
        "\n",
        "        # Extract humidity\n",
        "        humidity_tag = item.find('span', class_='humidity')\n",
        "        if humidity_tag:\n",
        "            humidity = int(humidity_tag.text.replace('%', '').strip())\n",
        "            humidities.append(humidity)\n",
        "\n",
        "    # Calculate average temperature\n",
        "    if temperatures:\n",
        "        avg_temp = sum(temperatures) / len(temperatures)\n",
        "    else:\n",
        "        avg_temp = None\n",
        "\n",
        "    # Identify the most common weather condition\n",
        "    if conditions:\n",
        "        most_common_condition = Counter(conditions).most_common(1)[0][0]\n",
        "    else:\n",
        "        most_common_condition = None\n",
        "\n",
        "    # Print the analysis results\n",
        "    print(f\"Average Temperature: {avg_temp:.1f}°F\" if avg_temp is not None else \"Temperature data not available\")\n",
        "    print(f\"Most Common Weather Condition: {most_common_condition}\" if most_common_condition else \"Weather condition data not available\")\n",
        "\n",
        "finally:\n",
        "    driver.quit()\n"
      ],
      "metadata": {
        "id": "-nDVKOnkJ9m-"
      },
      "execution_count": null,
      "outputs": []
    }
  ]
}