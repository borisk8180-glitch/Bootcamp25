{
  "nbformat": 4,
  "nbformat_minor": 0,
  "metadata": {
    "colab": {
      "provenance": []
    },
    "kernelspec": {
      "name": "python3",
      "display_name": "Python 3"
    },
    "language_info": {
      "name": "python"
    }
  },
  "cells": [
    {
      "cell_type": "code",
      "execution_count": null,
      "metadata": {
        "id": "ZVH_V4P4LZF7"
      },
      "outputs": [],
      "source": [
        "!wget https://dl.google.com/linux/direct/google-chrome-stable_current_amd64.deb\n",
        "!dpkg -i google-chrome-stable_current_amd64.deb\n",
        "!apt-get install -f\n",
        "!pip install selenium beautifulsoup4 webdriver_manager\n",
        "from selenium import webdriver\n",
        "from selenium.webdriver.chrome.service import Service\n",
        "from selenium.webdriver.chrome.options import Options\n",
        "from bs4 import BeautifulSoup\n",
        "import time\n",
        "from webdriver_manager.chrome import ChromeDriverManager"
      ]
    },
    {
      "cell_type": "code",
      "source": [
        "# 1️ Configure Selenium\n",
        "chrome_options = Options()\n",
        "chrome_options.add_argument(\"--headless\")  # run in background (no GUI)\n",
        "chrome_options.add_argument(\"--disable-gpu\")\n",
        "chrome_options.add_argument(\"--no-sandbox\") # Add this line for Colab environment\n",
        "chrome_options.add_argument(\"--disable-dev-shm-usage\") # Add this line for Colab environment\n",
        "chrome_options.binary_location = '/usr/bin/google-chrome' # Explicitly set the path to the Chrome binary"
      ],
      "metadata": {
        "id": "ZcOZzilXM4Ak"
      },
      "execution_count": null,
      "outputs": []
    },
    {
      "cell_type": "code",
      "source": [
        "# Update the path below if needed\n",
        "# service = Service(\"chromedriver.exe\")  # or the full path to chromedriver\n",
        "service = Service(ChromeDriverManager().install()) # Use webdriver_manager to install chromedriver\n",
        "driver = webdriver.Chrome(service=service, options=chrome_options)\n",
        "\n",
        "# 2️ Navigate to Rotten Tomatoes Certified Fresh page\n",
        "url = \"https://www.rottentomatoes.com/browse/movies_at_home/critics:certified_fresh\"\n",
        "driver.get(url)"
      ],
      "metadata": {
        "id": "acSGqK17NoZj"
      },
      "execution_count": null,
      "outputs": []
    },
    {
      "cell_type": "code",
      "source": [
        "# 3️ Wait for JavaScript content to load\n",
        "time.sleep(5)  # adjust if your internet is slow\n",
        "\n",
        "# 4️ Get the fully rendered HTML\n",
        "html = driver.page_source\n",
        "\n",
        "# 5️ Parse the HTML using BeautifulSoup\n",
        "soup = BeautifulSoup(html, \"html.parser\")\n",
        "\n",
        "# 6️ Extract movie info\n",
        "movies = soup.find_all(\"a\", class_=\"js-tile-link\")  # general selector for tiles"
      ],
      "metadata": {
        "id": "llXWnOovM-LR"
      },
      "execution_count": null,
      "outputs": []
    },
    {
      "cell_type": "code",
      "source": [
        "# 7️ Print results\n",
        "for movie in movies:\n",
        "    title = movie.find(\"span\", class_=\"p--small\").text.strip() if movie.find(\"span\", class_=\"p--small\") else \"N/A\"\n",
        "    score_tag = movie.find(\"score-pairs-deprecated\") or movie.find(\"score-pairs\")\n",
        "    score = score_tag.get(\"audiencescore\") or score_tag.get(\"criticsscore\") if score_tag else \"N/A\"\n",
        "    date = movie.find(\"span\", class_=\"smaller\").text.strip() if movie.find(\"span\", class_=\"smaller\") else \"N/A\"\n",
        "\n",
        "    print(f\"Title: {title}\")\n",
        "    print(f\"Score: {score}\")\n",
        "    print(f\"Release Date: {date}\")\n",
        "    print(\"-\" * 50)"
      ],
      "metadata": {
        "id": "gBkwdLQxN0EE"
      },
      "execution_count": null,
      "outputs": []
    },
    {
      "cell_type": "code",
      "source": [
        "# 8️ Close the browser\n",
        "driver.quit()"
      ],
      "metadata": {
        "id": "lH9_kHDoPCfy"
      },
      "execution_count": null,
      "outputs": []
    }
  ]
}