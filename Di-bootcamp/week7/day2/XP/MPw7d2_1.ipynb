{
  "nbformat": 4,
  "nbformat_minor": 0,
  "metadata": {
    "colab": {
      "provenance": []
    },
    "kernelspec": {
      "name": "python3",
      "display_name": "Python 3"
    },
    "language_info": {
      "name": "python"
    }
  },
  "cells": [
    {
      "cell_type": "code",
      "source": [
        "!pip install kaggle\n"
      ],
      "metadata": {
        "id": "mM5_TGUCNWOl"
      },
      "execution_count": null,
      "outputs": []
    },
    {
      "cell_type": "code",
      "source": [
        "from google.colab import files\n",
        "files.upload()  # выберите kaggle.json"
      ],
      "metadata": {
        "id": "owbKVwaSNm-Y"
      },
      "execution_count": null,
      "outputs": []
    },
    {
      "cell_type": "code",
      "source": [
        "  !mkdir ~/.kaggle\n",
        "  !mv kaggle.json ~/.kaggle/\n",
        "  !chmod 600 ~/.kaggle/kaggle.json\n",
        "\n",
        "  !kaggle datasets download -d olistbr/brazilian-ecommerce\n",
        "  !unzip brazilian-ecommerce.zip\n"
      ],
      "metadata": {
        "id": "BvvCaehRQDrb"
      },
      "execution_count": null,
      "outputs": []
    },
    {
      "cell_type": "code",
      "source": [
        "!ls /content"
      ],
      "metadata": {
        "id": "ERG9ryvnRJVG"
      },
      "execution_count": null,
      "outputs": []
    },
    {
      "cell_type": "code",
      "execution_count": null,
      "metadata": {
        "id": "wTpsYd9PHtT1"
      },
      "outputs": [],
      "source": [
        "import numpy as np # linear algebra\n",
        "import pandas as pd\n",
        "import sqlite3\n",
        "\n",
        "\n",
        "df_olist_customers = pd.read_csv('/content/olist_customers_dataset.csv')\n",
        "df_olist_sellers = pd.read_csv('/content/olist_sellers_dataset.csv')\n",
        "df_olist_order_reviews= pd.read_csv('/content/olist_order_reviews_dataset.csv')\n",
        "df_olist_order_items= pd.read_csv('/content/olist_order_items_dataset.csv')\n",
        "df_olist_products= pd.read_csv('/content/olist_products_dataset.csv')\n",
        "df_olist_geolocation= pd.read_csv('/content/olist_geolocation_dataset.csv')\n",
        "df_product_category_name_translation= pd.read_csv('/content/product_category_name_translation.csv')\n",
        "df_olist_orders = pd.read_csv('/content/olist_orders_dataset.csv')\n",
        "df_olist_order_payments= pd.read_csv('/content/olist_order_payments_dataset.csv')\n",
        "\n",
        "df_olist_customers.head()"
      ]
    },
    {
      "cell_type": "code",
      "source": [
        "from sqlalchemy import create_engine\n",
        "engine = create_engine('sqlite://', echo=False)\n",
        "\n",
        "# export the dataframe as a table 'playstore' to the sqlite engine\n",
        "df_olist_customers.to_sql(\"olist_customers\", con =engine)\n",
        "df_olist_sellers.to_sql(\"olist_sellers\", con =engine)\n",
        "df_olist_order_reviews.to_sql(\"olist_order_reviews\", con =engine)\n",
        "df_olist_order_items.to_sql(\"olist_order_items\", con =engine)\n",
        "df_olist_products.to_sql(\"olist_products_dataset\", con =engine)\n",
        "df_olist_geolocation.to_sql(\"olist_geolocation\", con =engine)\n",
        "df_product_category_name_translation.to_sql(\"product_category_name_translation\", con =engine)\n",
        "df_olist_orders.to_sql(\"olist_orders\", con =engine)\n",
        "df_olist_order_payments.to_sql(\"olist_order_payments\", con =engine)\n",
        "df_olist_order_payments.head()"
      ],
      "metadata": {
        "id": "3PVpQ-kvMA2P"
      },
      "execution_count": null,
      "outputs": []
    },
    {
      "cell_type": "code",
      "source": [
        "# SQL query: select all columns from the olist_customers table, limiting it to 5 rows\n",
        "sql = '''\n",
        "SELECT *\n",
        "FROM olist_customers\n",
        "LIMIT 5\n",
        "'''\n",
        "\n",
        "# Executing an SQL query using the engine\n",
        "df_sql = pd.read_sql_query(sql, con=engine)\n",
        "\n",
        "# Viewing the result\n",
        "df_sql.head()\n"
      ],
      "metadata": {
        "id": "NA4zOvpwaFRV"
      },
      "execution_count": null,
      "outputs": []
    },
    {
      "cell_type": "code",
      "source": [
        "# 2. Create SQLite Database and Export DataFrames.\n",
        "from sqlalchemy import create_engine\n",
        "\n",
        "# Creating an SQLite engine (in-memory database)\n",
        "engine = create_engine('sqlite://', echo=False)\n",
        "\n",
        "# Export all DataFrames as SQL tables\n",
        "df_olist_customers.to_sql(\"olist_customers\", con=engine, index=False)\n",
        "df_olist_sellers.to_sql(\"olist_sellers\", con=engine, index=False)\n",
        "df_olist_order_reviews.to_sql(\"olist_order_reviews\", con=engine, index=False)\n",
        "df_olist_order_items.to_sql(\"olist_order_items\", con=engine, index=False)\n",
        "df_olist_products.to_sql(\"olist_products\", con=engine, index=False)\n",
        "df_olist_geolocation.to_sql(\"olist_geolocation\", con=engine, index=False)\n",
        "df_product_category_name_translation.to_sql(\"product_category_name_translation\", con=engine, index=False)\n",
        "df_olist_orders.to_sql(\"olist_orders\", con=engine, index=False)\n",
        "df_olist_order_payments.to_sql(\"olist_order_payments\", con=engine, index=False)\n"
      ],
      "metadata": {
        "id": "L6j_kBbzcMS5"
      },
      "execution_count": null,
      "outputs": []
    },
    {
      "cell_type": "code",
      "source": [
        "# 3. Query 1: Count and Percentage of Orders Purchased in Jan 2018 with 5 Review Score\n",
        "sql_q1 = '''\n",
        "SELECT\n",
        "    COUNT(o.order_id) AS num_orders,\n",
        "    ROUND(CAST(COUNT(o.order_id) AS FLOAT) /\n",
        "    (SELECT COUNT(*)\n",
        "    FROM olist_orders\n",
        "    WHERE strftime('%Y-%m', order_purchase_timestamp) = '2018-01') * 100, 2)\n",
        "    AS percentage\n",
        "FROM olist_orders o\n",
        "JOIN olist_order_reviews r ON o.order_id = r.order_id\n",
        "\n",
        "WHERE\n",
        "strftime('%Y-%m', o.order_purchase_timestamp) = '2018-01'\n",
        "AND r.review_score = 5\n",
        "'''\n",
        "df_q1 = pd.read_sql_query(sql_q1, con=engine)\n",
        "df_q1\n"
      ],
      "metadata": {
        "id": "XtNBv63OcUwE"
      },
      "execution_count": null,
      "outputs": []
    },
    {
      "cell_type": "code",
      "source": [
        "# 4. Query 2: Customer Purchase Trend Year-on-Year\n",
        "sql_q2 = '''\n",
        "SELECT\n",
        "    strftime('%Y', order_purchase_timestamp) AS year,\n",
        "    COUNT(order_id) AS num_orders,\n",
        "    COUNT(DISTINCT customer_id) AS num_customers\n",
        "FROM olist_orders\n",
        "GROUP BY year\n",
        "ORDER BY year\n",
        "'''\n",
        "df_q2 = pd.read_sql_query(sql_q2, con=engine)\n",
        "df_q2\n"
      ],
      "metadata": {
        "id": "ODTg0Ah3ccge"
      },
      "execution_count": null,
      "outputs": []
    },
    {
      "cell_type": "code",
      "source": [
        "# 5. Query 3: Average Order Values of Customers\n",
        "sql_q3 = '''\n",
        "SELECT\n",
        "    o.customer_id,\n",
        "    ROUND(AVG(p.payment_value), 2) AS avg_order_value\n",
        "FROM olist_orders o\n",
        "JOIN olist_order_payments p ON o.order_id = p.order_id\n",
        "GROUP BY o.customer_id\n",
        "\n",
        "ORDER BY avg_order_value DESC\n",
        "LIMIT 10\n",
        "'''\n",
        "df_q3 = pd.read_sql_query(sql_q3, con=engine)\n",
        "df_q3\n"
      ],
      "metadata": {
        "id": "v4KDFabfcimv"
      },
      "execution_count": null,
      "outputs": []
    },
    {
      "cell_type": "code",
      "source": [
        "# 6. Query 4: Top 5 Cities with Highest Revenue from 2016 to 2018\n",
        "sql_q4 = '''\n",
        "SELECT\n",
        "    c.customer_city,\n",
        "    ROUND(SUM(p.payment_value), 2) AS total_revenue\n",
        "FROM olist_orders o\n",
        "JOIN olist_order_payments p ON o.order_id = p.order_id\n",
        "JOIN olist_customers c ON o.customer_id = c.customer_id\n",
        "\n",
        "WHERE strftime('%Y', o.order_purchase_timestamp) BETWEEN '2016' AND '2018'\n",
        "GROUP BY c.customer_city\n",
        "\n",
        "ORDER BY total_revenue DESC\n",
        "LIMIT 5\n",
        "'''\n",
        "df_q4 = pd.read_sql_query(sql_q4, con=engine)\n",
        "df_q4\n"
      ],
      "metadata": {
        "id": "eOC3XAa2cqHJ"
      },
      "execution_count": null,
      "outputs": []
    },
    {
      "cell_type": "code",
      "source": [
        "# 7. Query 5: State Wise Revenue Table Between 2016 to 2018\n",
        "sql_q5 = '''\n",
        "SELECT\n",
        "    c.customer_state,\n",
        "    ROUND(SUM(p.payment_value), 2) AS total_revenue\n",
        "FROM olist_orders o\n",
        "JOIN olist_order_payments p ON o.order_id = p.order_id\n",
        "JOIN olist_customers c ON o.customer_id = c.customer_id\n",
        "\n",
        "WHERE strftime('%Y', o.order_purchase_timestamp) BETWEEN '2016' AND '2018'\n",
        "GROUP BY c.customer_state\n",
        "\n",
        "ORDER BY total_revenue DESC\n",
        "LIMIT 10\n",
        "'''\n",
        "df_q5 = pd.read_sql_query(sql_q5, con=engine)\n",
        "df_q5\n"
      ],
      "metadata": {
        "id": "h3okdtiZctBk"
      },
      "execution_count": null,
      "outputs": []
    },
    {
      "cell_type": "code",
      "source": [
        "# 8. Query 6: Top Successful Sellers\n",
        "sql_q6 = '''\n",
        "SELECT\n",
        "    s.seller_id,\n",
        "    COUNT(oi.order_id) AS total_goods_sold,\n",
        "    ROUND(SUM(oi.price), 2) AS total_revenue,\n",
        "    COUNT(DISTINCT o.customer_id) AS total_customers,\n",
        "    SUM(CASE WHEN r.review_score = 5 THEN 1 ELSE 0 END) AS five_star_reviews\n",
        "\n",
        "FROM olist_sellers s\n",
        "JOIN olist_order_items oi ON s.seller_id = oi.seller_id\n",
        "JOIN olist_orders o ON oi.order_id = o.order_id\n",
        "LEFT JOIN olist_order_reviews r ON o.order_id = r.order_id\n",
        "\n",
        "GROUP BY s.seller_id\n",
        "\n",
        "ORDER BY total_goods_sold DESC, total_revenue DESC\n",
        "LIMIT 10\n",
        "'''\n",
        "#LEFT JOIN - Not all orders have a review.\n",
        "#We want to save all orders, even if there is no review.\n",
        "\n",
        "df_q6 = pd.read_sql_query(sql_q6, con=engine)\n",
        "df_q6\n"
      ],
      "metadata": {
        "id": "OJckzoLDc1Uj"
      },
      "execution_count": null,
      "outputs": []
    },
    {
      "cell_type": "code",
      "source": [
        "# 9. Query 7: Delivery Success Rate Across States\n",
        "sql_q7 = '''\n",
        "SELECT\n",
        "    c.customer_state,\n",
        "    ROUND(SUM(CASE WHEN o.order_status='delivered' THEN 1 ELSE 0 END) * 100.0 /\n",
        "    COUNT(*), 2) AS delivery_success_rate\n",
        "FROM olist_orders o\n",
        "JOIN olist_customers c ON o.customer_id = c.customer_id\n",
        "\n",
        "GROUP BY c.customer_state\n",
        "\n",
        "ORDER BY delivery_success_rate DESC\n",
        "LIMIT 10\n",
        "'''\n",
        "df_q7 = pd.read_sql_query(sql_q7, con=engine)\n",
        "df_q7\n"
      ],
      "metadata": {
        "id": "w_gCx9qEc878"
      },
      "execution_count": null,
      "outputs": []
    },
    {
      "cell_type": "code",
      "source": [
        "# 10. Query 8: Preferred Form of Payment for Different Categories\n",
        "sql_q8 = '''\n",
        "SELECT\n",
        "    pc.product_category_name,\n",
        "    p.payment_type,\n",
        "    COUNT(*) AS count_payment\n",
        "FROM olist_order_items oi\n",
        "JOIN olist_products pr ON oi.product_id = pr.product_id\n",
        "JOIN product_category_name_translation pc ON pr.product_category_name = pc.product_category_name\n",
        "JOIN olist_order_payments p ON oi.order_id = p.order_id\n",
        "\n",
        "GROUP BY pc.product_category_name, p.payment_type\n",
        "\n",
        "ORDER BY pc.product_category_name, count_payment DESC\n",
        "'''\n",
        "df_q8 = pd.read_sql_query(sql_q8, con=engine)\n",
        "df_q8"
      ],
      "metadata": {
        "id": "6XGnsfzgdDJn"
      },
      "execution_count": null,
      "outputs": []
    },
    {
      "cell_type": "code",
      "source": [
        "# 11. Query 9: Distance Between Cities\n",
        "sql_q9 = '''\n",
        "SELECT\n",
        "    g1.geolocation_city AS city_1,\n",
        "    g2.geolocation_city AS city_2,\n",
        "    ROUND(AVG(\n",
        "        6371 * 2 * ASIN(SQRT(\n",
        "            POWER(SIN(RADIANS(g2.geolocation_lat - g1.geolocation_lat) / 2), 2) +\n",
        "            COS(RADIANS(g1.geolocation_lat)) * COS(RADIANS(g2.geolocation_lat)) *\n",
        "            POWER(SIN(RADIANS(g2.geolocation_lng - g1.geolocation_lng) / 2), 2)\n",
        "        ))\n",
        "    ), 2) AS haversine_distance_km\n",
        "FROM\n",
        "    (SELECT * FROM olist_geolocation LIMIT 100) AS g1\n",
        "JOIN\n",
        "    (SELECT * FROM olist_geolocation LIMIT 100) AS g2\n",
        "    ON g1.geolocation_city != g2.geolocation_city\n",
        "GROUP BY city_1, city_2\n",
        "LIMIT 100;\n",
        "'''\n",
        "df_q9 = pd.read_sql_query(sql_q9, con=engine)\n",
        "df_q9"
      ],
      "metadata": {
        "id": "lhyW9lemynlJ"
      },
      "execution_count": null,
      "outputs": []
    }
  ]
}