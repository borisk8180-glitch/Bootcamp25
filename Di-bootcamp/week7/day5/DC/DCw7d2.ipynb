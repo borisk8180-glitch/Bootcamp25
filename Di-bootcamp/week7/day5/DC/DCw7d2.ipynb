{
  "nbformat": 4,
  "nbformat_minor": 0,
  "metadata": {
    "colab": {
      "provenance": []
    },
    "kernelspec": {
      "name": "python3",
      "display_name": "Python 3"
    },
    "language_info": {
      "name": "python"
    }
  },
  "cells": [
    {
      "cell_type": "code",
      "source": [
        "import requests\n",
        "from bs4 import BeautifulSoup\n",
        "import pandas as pd"
      ],
      "metadata": {
        "id": "wztEhFEulc3t"
      },
      "execution_count": null,
      "outputs": []
    },
    {
      "cell_type": "code",
      "source": [
        "# Step 1: Fetch the HTML content of the website\n",
        "url = \"https://github.com/topics\"\n",
        "response = requests.get(url)"
      ],
      "metadata": {
        "id": "cwc3j6GHmTrF"
      },
      "execution_count": null,
      "outputs": []
    },
    {
      "cell_type": "code",
      "source": [
        "# Step 2: Print status code to ensure request was successful\n",
        "print(\"Status Code:\", response.status_code)"
      ],
      "metadata": {
        "id": "vwpFQ621mWlx"
      },
      "execution_count": null,
      "outputs": []
    },
    {
      "cell_type": "code",
      "execution_count": null,
      "metadata": {
        "id": "-oaxEgtulCFE"
      },
      "outputs": [],
      "source": [
        "# Step 3: Print first 100 characters of HTML content\n",
        "print(\"First 100 characters of HTML:\\n\", response.text[:100])"
      ]
    },
    {
      "cell_type": "code",
      "source": [
        "# Step 4: Save the HTML content to a file\n",
        "with open(\"webpage.html\", \"w\", encoding=response.encoding) as file:\n",
        "    file.write(response.text)\n",
        "print(\"HTML content saved to webpage.html\")"
      ],
      "metadata": {
        "id": "_cRnI_7smc54"
      },
      "execution_count": null,
      "outputs": []
    },
    {
      "cell_type": "code",
      "source": [
        "# Step 5: Parse the saved HTML content with BeautifulSoup\n",
        "with open(\"webpage.html\", \"r\", encoding=response.encoding) as file:\n",
        "    soup = BeautifulSoup(file, \"html.parser\")"
      ],
      "metadata": {
        "id": "4TV0bs5rmfwa"
      },
      "execution_count": null,
      "outputs": []
    },
    {
      "cell_type": "code",
      "source": [
        "# Step 6: Identify two distinct pieces of information — titles and descriptions\n",
        "titles = soup.find_all(\"p\", class_=\"f3 lh-condensed mb-0 mt-1 Link--primary\")\n",
        "descriptions = soup.find_all(\"p\", class_=\"f5 color-fg-muted mb-0 mt-1\")"
      ],
      "metadata": {
        "id": "HP1RWzXsmh0-"
      },
      "execution_count": null,
      "outputs": []
    },
    {
      "cell_type": "code",
      "source": [
        "# Step 7: Extract text and clean\n",
        "titles_list = [t.text.strip() for t in titles]\n",
        "descriptions_list = [d.text.strip() for d in descriptions]"
      ],
      "metadata": {
        "id": "bLvz6Dn4mj-s"
      },
      "execution_count": null,
      "outputs": []
    },
    {
      "cell_type": "code",
      "source": [
        "# Step 8: Print length and content to verify\n",
        "print(\"\\nNumber of Titles:\", len(titles_list))\n",
        "print(\"Titles:\", titles_list)\n",
        "\n",
        "print(\"\\nNumber of Descriptions:\", len(descriptions_list))\n",
        "print(\"Descriptions:\", descriptions_list)"
      ],
      "metadata": {
        "id": "ppxffCBommIw"
      },
      "execution_count": null,
      "outputs": []
    },
    {
      "cell_type": "code",
      "source": [
        "# Step 9: Create dictionary to structure extracted data\n",
        "data = {\n",
        "    \"Title\": titles_list,\n",
        "    \"Description\": descriptions_list\n",
        "}"
      ],
      "metadata": {
        "id": "JAoyfAF8mo_e"
      },
      "execution_count": null,
      "outputs": []
    },
    {
      "cell_type": "code",
      "source": [
        "# Step 10: Convert to pandas DataFrame\n",
        "df = pd.DataFrame(data)"
      ],
      "metadata": {
        "id": "6LZG_Pl5mrvS"
      },
      "execution_count": null,
      "outputs": []
    },
    {
      "cell_type": "code",
      "source": [
        "# Step 11: Print DataFrame to confirm structure\n",
        "print(\"\\nDataFrame:\\n\", df)"
      ],
      "metadata": {
        "id": "kCQNlZQomt53"
      },
      "execution_count": null,
      "outputs": []
    }
  ]
}